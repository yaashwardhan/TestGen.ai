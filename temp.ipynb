{
 "cells": [
  {
   "cell_type": "code",
   "execution_count": 4,
   "metadata": {},
   "outputs": [
    {
     "name": "stderr",
     "output_type": "stream",
     "text": [
      "Downloading:  10%|▉         | 115M/1.14G [03:33<32:32, 564kB/s] \n",
      "[nltk_data] Downloading package stopwords to\n",
      "[nltk_data]     C:\\Users\\yaash\\AppData\\Roaming\\nltk_data...\n",
      "[nltk_data]   Package stopwords is already up-to-date!\n",
      "[nltk_data] Downloading package wordnet to\n",
      "[nltk_data]     C:\\Users\\yaash\\AppData\\Roaming\\nltk_data...\n",
      "[nltk_data]   Package wordnet is already up-to-date!\n",
      "[nltk_data] Downloading package punkt to\n",
      "[nltk_data]     C:\\Users\\yaash\\AppData\\Roaming\\nltk_data...\n",
      "[nltk_data]   Package punkt is already up-to-date!\n",
      "C:\\Users\\yaash\\AppData\\Local\\Temp\\ipykernel_31604\\746595572.py:18: DeprecationWarning: Importing display from IPython.core.display is deprecated since IPython 7.14, please import from IPython display\n",
      "  from IPython.core.display import display, HTML\n"
     ]
    }
   ],
   "source": [
    "import json\n",
    "import requests\n",
    "import string\n",
    "import re\n",
    "import nltk\n",
    "import string\n",
    "import itertools\n",
    "nltk.download('stopwords')\n",
    "nltk.download('wordnet')\n",
    "nltk.download('punkt')\n",
    "import pke\n",
    "from nltk.corpus import stopwords\n",
    "from nltk.corpus import wordnet\n",
    "import traceback\n",
    "from nltk.tokenize import sent_tokenize\n",
    "from flashtext import KeywordProcessor\n",
    "import textwrap\n",
    "from IPython.core.display import display, HTML\n",
    "import xml.etree.ElementTree as et\n",
    "import random\n"
   ]
  },
  {
   "cell_type": "code",
   "execution_count": 2,
   "metadata": {},
   "outputs": [
    {
     "name": "stderr",
     "output_type": "stream",
     "text": [
      "Downloading: 100%|██████████| 1.14G/1.14G [01:51<00:00, 11.0MB/s]\n"
     ]
    }
   ],
   "source": [
    "from transformers import AutoTokenizer, AutoModelForSeq2SeqLM\n",
    "\n",
    "# Download the tokenizer and model\n",
    "tokenizer = AutoTokenizer.from_pretrained(\"sshleifer/distilbart-cnn-12-6\")\n",
    "model = AutoModelForSeq2SeqLM.from_pretrained(\"sshleifer/distilbart-cnn-12-6\")\n",
    "\n",
    "# Save the tokenizer and model files to a local directory\n",
    "save_directory = \"summarizer/\"\n",
    "tokenizer.save_pretrained(\"summarizer/tokenizer\")\n",
    "model.save_pretrained(\"summarizer/model\")\n"
   ]
  },
  {
   "cell_type": "code",
   "execution_count": 11,
   "metadata": {},
   "outputs": [
    {
     "data": {
      "text/plain": [
       "' Humans have long been captivated by the mysteries of outer space . Astronomers like Ptolemy and Galileo have long explored the cosmos . In the 20th century, the space race between the U.S. and the Soviet Union marked a pivotal moment in human history .'"
      ]
     },
     "execution_count": 11,
     "metadata": {},
     "output_type": "execute_result"
    }
   ],
   "source": [
    "inputs = tokenizer(text, max_length=1024, return_tensors=\"pt\")\n",
    "\n",
    "# Generate Summary\n",
    "summary_ids = model.generate(inputs[\"input_ids\"], num_beams=2, min_length=0)\n",
    "tokenizer.batch_decode(summary_ids, skip_special_tokens=True, clean_up_tokenization_spaces=False)[0]\n"
   ]
  },
  {
   "cell_type": "code",
   "execution_count": 13,
   "metadata": {},
   "outputs": [
    {
     "name": "stdout",
     "output_type": "stream",
     "text": [
      " Humans have long been captivated by the mysteries of outer space . Astronomers like Ptolemy and Galileo have long explored the cosmos . In the 20th century, the space race between the U.S. and the Soviet Union marked a pivotal moment in human history .\n"
     ]
    }
   ],
   "source": [
    "print(tokenizer.batch_decode(summary_ids, skip_special_tokens=True, clean_up_tokenization_spaces=False)[0])"
   ]
  },
  {
   "cell_type": "code",
   "execution_count": 6,
   "metadata": {},
   "outputs": [
    {
     "name": "stdout",
     "output_type": "stream",
     "text": [
      "In the vast expanse of the universe, humans have long been captivated by the mysteries of outer space. This journey of exploration and discovery began\n",
      "with ancient astronomers like Ptolemy, who studied celestial bodies and developed the first theories about the Earth's position in the solar system.\n",
      "The invention of the telescope in the early 17th century allowed for more detailed observations of the stars and planets, leading to groundbreaking\n",
      "discoveries like Galileo's observation of Jupiter's moons and Saturn's rings. In the 20th century, the space race between the U.S. and the Soviet\n",
      "Union marked a pivotal moment in human history.   In 1957, the Soviets launched Sputnik 1, the first artificial satellite, which was followed by the\n",
      "United States' Explorer 1 in 1958. Yuri Gagarin, a Soviet cosmonaut, became the first human to journey into outer space in 1961, and in 1969, American\n",
      "astronaut Neil Armstrong made history by becoming the first person to set foot on the Moon as part of the Apollo 11 mission.   Since then, space\n",
      "exploration has continued to expand, with the development of the International Space Station (ISS), robotic missions to Mars, and ambitious plans for\n",
      "future manned missions to the Moon, Mars, and beyond. As we learn more about our universe, the contributions of countless scientists, astronauts, and\n",
      "engineers serve as a testament to humanity's drive to uncover the secrets of the cosmos.\n"
     ]
    }
   ],
   "source": [
    "text = \"\"\"In the vast expanse of the universe, humans have long been captivated by the mysteries of outer space. This journey of exploration and discovery began with ancient astronomers like Ptolemy, who studied celestial bodies and developed the first theories about the Earth's position in the solar system. \n",
    "\n",
    "The invention of the telescope in the early 17th century allowed for more detailed observations of the stars and planets, leading to groundbreaking discoveries like Galileo's observation of Jupiter's moons and Saturn's rings. In the 20th century, the space race between the U.S. and the Soviet Union marked a pivotal moment in human history. \n",
    "\n",
    "In 1957, the Soviets launched Sputnik 1, the first artificial satellite, which was followed by the United States' Explorer 1 in 1958. Yuri Gagarin, a Soviet cosmonaut, became the first human to journey into outer space in 1961, and in 1969, American astronaut Neil Armstrong made history by becoming the first person to set foot on the Moon as part of the Apollo 11 mission. \n",
    "\n",
    "Since then, space exploration has continued to expand, with the development of the International Space Station (ISS), robotic missions to Mars, and ambitious plans for future manned missions to the Moon, Mars, and beyond. As we learn more about our universe, the contributions of countless scientists, astronauts, and engineers serve as a testament to humanity's drive to uncover the secrets of the cosmos.\"\"\"\n",
    "wrapper = textwrap.TextWrapper(width=150)\n",
    "word_list = wrapper.wrap(text=text)\n",
    "for element in word_list: \n",
    "  print(element) "
   ]
  },
  {
   "cell_type": "code",
   "execution_count": 25,
   "metadata": {},
   "outputs": [
    {
     "name": "stdout",
     "output_type": "stream",
     "text": [
      "['Python is a programming language that was created in the late 1980s by Guido van Rossum.', 'Its design philosophy emphasizes code readability and simplicity, which means that Python code is easy to read and write.', 'This makes it a great language for beginners who want to work more efficiently.', 'Python is a versatile, so it can be used for many tasks.', \"It's commonly used in web development to build websites and web applications.\", \"It's also popular in scientific computing, where it's used to analyze and manipulate large datasets.\", \"In addition, Python is commonly used in artificial intelligence and machine learning, where it's used to develop intelligent systems that can learn and make decisions based on data.\", 'One of the reasons why Python is so popular is because it has a large and active community.', 'There are many libraries and tools available that can help you get started with Python and accomplish your goals more quickly.', \"Additionally, Python is an open-source language, which means that it's free to use and modify.\", 'Overall, Python is a powerful and versatile and is easy to learn and use.', \"Whether you're just starting out or you're an experienced developer, Python can help you build a wide variety of projects and accomplish your goals more quickly and efficiently.”\"]\n"
     ]
    }
   ],
   "source": [
    "def tokenize_sentences(text):\n",
    "    sentences = sent_tokenize(text)\n",
    "    sentences = [sentence.strip() for sentence in sentences if len(sentence) > 20]\n",
    "    return sentences\n",
    "\n",
    "sentences = tokenize_sentences(text)\n",
    "print (sentences)"
   ]
  },
  {
   "cell_type": "code",
   "execution_count": 26,
   "metadata": {},
   "outputs": [
    {
     "name": "stdout",
     "output_type": "stream",
     "text": [
      "keywords:  ['programming language', 'machine learning', 'build websites', 'artificial intelligence', 'easy', 'manipulate large datasets', 'popular', 'means', 'web development', 'versatile', 'learn', 'accomplish', 'created', 'help', 'web applications', 'goals', 'read', 'analyze', 'beginners', 'write', 'code', 'want', 'late 1980s', 'design philosophy emphasizes code readability', 'simplicity', 'makes', 'scientific computing', 'great language', 'addition', 'work']\n"
     ]
    }
   ],
   "source": [
    "def get_noun_adj_verb(text):\n",
    "    out=[]\n",
    "    try:\n",
    "        extractor = pke.unsupervised.MultipartiteRank()\n",
    "        extractor.load_document(input=text,language='en')\n",
    "        pos = {'VERB', 'ADJ', 'NOUN'}\n",
    "        stoplist = list(string.punctuation)\n",
    "        stoplist += ['-lrb-', '-rrb-', '-lcb-', '-rcb-', '-lsb-', '-rsb-']\n",
    "        stoplist += stopwords.words('english')\n",
    "        extractor.candidate_selection(pos=pos)\n",
    "        # 4. build the Multipartite graph and rank candidates using random walk,\n",
    "        #    alpha controls the weight adjustment mechanism, see TopicRank for\n",
    "        #    threshold/method parameters.\n",
    "        extractor.candidate_weighting(alpha=1.1,\n",
    "                                      threshold=0.75,\n",
    "                                      method='average')\n",
    "        keyphrases = extractor.get_n_best(n=30)\n",
    "        for val in keyphrases:\n",
    "            out.append(val[0])\n",
    "    except:\n",
    "        out = []\n",
    "        traceback.print_exc()\n",
    "    return out\n",
    "noun_verbs_adj = get_noun_adj_verb(text)\n",
    "print (\"keywords: \",noun_verbs_adj)"
   ]
  },
  {
   "cell_type": "code",
   "execution_count": 27,
   "metadata": {},
   "outputs": [
    {
     "name": "stdout",
     "output_type": "stream",
     "text": [
      "{'sentences': ['Python is a  _________  that was created in the late 1980s by Guido van Rossum.', \"In addition, Python is commonly used in artificial intelligence and  _________ , where it's used to develop intelligent systems that can learn and make decisions based on data.\", \"It's commonly used in web development to  _________  and web applications.\", 'Its design philosophy emphasizes code readability and simplicity, which means that Python code is  _________  to read and write.', \"It's also popular in scientific computing, where it's used to analyze and  _________ .\", 'Overall, Python is a powerful and  _________  and is easy to learn and use.', \"Whether you're just starting out or you're an experienced developer, Python can help you build a wide variety of projects and  _________  your goals more quickly and efficiently.”\", 'This makes it a great language for  _________  who want to work more efficiently.'], 'keys': ['programming language', 'machine learning', 'build websites', 'easy', 'manipulate large datasets', 'versatile', 'accomplish', 'beginners']}\n"
     ]
    }
   ],
   "source": [
    "def get_sentences_for_keyword(keywords, sentences):\n",
    "    keyword_processor = KeywordProcessor()\n",
    "    keyword_sentences = {}\n",
    "    for word in keywords:\n",
    "        keyword_sentences[word] = []\n",
    "        keyword_processor.add_keyword(word)\n",
    "    for sentence in sentences:\n",
    "        keywords_found = keyword_processor.extract_keywords(sentence)\n",
    "        for key in keywords_found:\n",
    "            keyword_sentences[key].append(sentence)\n",
    "\n",
    "    for key in keyword_sentences.keys():\n",
    "        values = keyword_sentences[key]\n",
    "        values = sorted(values, key=len, reverse=True)\n",
    "        keyword_sentences[key] = values\n",
    "    return keyword_sentences\n",
    "\n",
    "keyword_sentence_mapping_noun_verbs_adj = get_sentences_for_keyword(noun_verbs_adj, sentences)\n",
    "def get_fill_in_the_blanks(sentence_mapping):\n",
    "    out={}\n",
    "    blank_sentences = []\n",
    "    processed = []\n",
    "    keys=[]\n",
    "    for key in sentence_mapping:\n",
    "        if len(sentence_mapping[key])>0:\n",
    "            sent = sentence_mapping[key][0]\n",
    "            # Compile a regular expression pattern into a regular expression object, which can be used for matching and other methods\n",
    "            insensitive_sent = re.compile(re.escape(key), re.IGNORECASE)\n",
    "            no_of_replacements =  len(re.findall(re.escape(key),sent,re.IGNORECASE))\n",
    "            line = insensitive_sent.sub(' _________ ', sent)\n",
    "            if (sentence_mapping[key][0] not in processed) and no_of_replacements<2:\n",
    "                blank_sentences.append(line)\n",
    "                processed.append(sentence_mapping[key][0])\n",
    "                keys.append(key)\n",
    "    out[\"sentences\"]=blank_sentences[:10]\n",
    "    out[\"keys\"]=keys[:10]\n",
    "    return out\n",
    "\n",
    "\n",
    "fill_in_the_blanks = get_fill_in_the_blanks(keyword_sentence_mapping_noun_verbs_adj)\n",
    "print(fill_in_the_blanks)"
   ]
  },
  {
   "cell_type": "code",
   "execution_count": 33,
   "metadata": {},
   "outputs": [
    {
     "name": "stdout",
     "output_type": "stream",
     "text": [
      "[\n",
      "  {\n",
      "    \"question\": \"Python is a  _________  that was created in the late 1980s by Guido van Rossum.\",\n",
      "    \"answer\": \"programming language\"\n",
      "  },\n",
      "  {\n",
      "    \"question\": \"In addition, Python is commonly used in artificial intelligence and  _________ , where it's used to develop intelligent systems that can learn and make decisions based on data.\",\n",
      "    \"answer\": \"machine learning\"\n",
      "  },\n",
      "  {\n",
      "    \"question\": \"It's commonly used in web development to  _________  and web applications.\",\n",
      "    \"answer\": \"build websites\"\n",
      "  },\n",
      "  {\n",
      "    \"question\": \"Its design philosophy emphasizes code readability and simplicity, which means that Python code is  _________  to read and write.\",\n",
      "    \"answer\": \"easy\"\n",
      "  },\n",
      "  {\n",
      "    \"question\": \"It's also popular in scientific computing, where it's used to analyze and  _________ .\",\n",
      "    \"answer\": \"manipulate large datasets\"\n",
      "  },\n",
      "  {\n",
      "    \"question\": \"Overall, Python is a powerful and  _________  and is easy to learn and use.\",\n",
      "    \"answer\": \"versatile\"\n",
      "  },\n",
      "  {\n",
      "    \"question\": \"Whether you're just starting out or you're an experienced developer, Python can help you build a wide variety of projects and  _________  your goals more quickly and efficiently.\\u201d\",\n",
      "    \"answer\": \"accomplish\"\n",
      "  },\n",
      "  {\n",
      "    \"question\": \"This makes it a great language for  _________  who want to work more efficiently.\",\n",
      "    \"answer\": \"beginners\"\n",
      "  }\n",
      "]\n"
     ]
    }
   ],
   "source": [
    "output_json = [\n",
    "    {\"question\": sentence, \"answer\": key}\n",
    "    for sentence, key in zip(fill_in_the_blanks[\"sentences\"], fill_in_the_blanks[\"keys\"])\n",
    "]\n",
    "print(json.dumps(output_json, indent=2))"
   ]
  },
  {
   "cell_type": "code",
   "execution_count": 34,
   "metadata": {},
   "outputs": [
    {
     "data": {
      "text/html": [
       "<div><h2 /><h4><ul style=\"color:blue;\"><li>programming language</li><li>machine learning</li><li>build websites</li><li>easy</li><li>manipulate large datasets</li><li>versatile</li><li>accomplish</li><li>beginners</li></ul><ol style=\"color:brown;\"><li>Python is a  _________  that was created in the late 1980s by Guido van Rossum.</li><br /><li>In addition, Python is commonly used in artificial intelligence and  _________ , where it's used to develop intelligent systems that can learn and make decisions based on data.</li><br /><li>It's commonly used in web development to  _________  and web applications.</li><br /><li>Its design philosophy emphasizes code readability and simplicity, which means that Python code is  _________  to read and write.</li><br /><li>It's also popular in scientific computing, where it's used to analyze and  _________ .</li><br /><li>Overall, Python is a powerful and  _________  and is easy to learn and use.</li><br /><li>Whether you're just starting out or you're an experienced developer, Python can help you build a wide variety of projects and  _________  your goals more quickly and efficiently.&#8221;</li><br /><li>This makes it a great language for  _________  who want to work more efficiently.</li><br /></ol></h4></div>"
      ],
      "text/plain": [
       "<IPython.core.display.HTML object>"
      ]
     },
     "metadata": {},
     "output_type": "display_data"
    }
   ],
   "source": [
    "\n",
    "root = et.Element(\"div\")\n",
    "\n",
    "heading = et.Element(\"h2\")\n",
    "\n",
    "keywords = et.Element(\"ul\")\n",
    "keywords.set('style', 'color:blue;')\n",
    "\n",
    "all_keys = fill_in_the_blanks['keys']\n",
    "for blank in all_keys:\n",
    "  child=et.Element(\"li\")\n",
    "  child.text = blank\n",
    "  keywords.append(child)\n",
    "\n",
    "sentences = et.Element(\"ol\")\n",
    "sentences.set('style', 'color:brown;')\n",
    "for sentence in fill_in_the_blanks['sentences']:\n",
    "  child=et.Element(\"li\")\n",
    "  child.text = sentence\n",
    "  sentences.append(child)\n",
    "  sentences.append(et.Element(\"br\"))\n",
    "\n",
    "heading_content = et.Element(\"h4\")\n",
    "\n",
    "root.append(heading)\n",
    "heading_content.append(keywords)\n",
    "heading_content.append(sentences)\n",
    "root.append(heading_content)\n",
    "\n",
    "xmlstr = et.tostring(root)\n",
    "xmlstr = xmlstr.decode(\"utf-8\") \n",
    "display(HTML(xmlstr))"
   ]
  },
  {
   "cell_type": "code",
   "execution_count": null,
   "metadata": {},
   "outputs": [],
   "source": []
  }
 ],
 "metadata": {
  "kernelspec": {
   "display_name": "Python 3",
   "language": "python",
   "name": "python3"
  },
  "language_info": {
   "codemirror_mode": {
    "name": "ipython",
    "version": 3
   },
   "file_extension": ".py",
   "mimetype": "text/x-python",
   "name": "python",
   "nbconvert_exporter": "python",
   "pygments_lexer": "ipython3",
   "version": "3.10.10"
  },
  "orig_nbformat": 4
 },
 "nbformat": 4,
 "nbformat_minor": 2
}
